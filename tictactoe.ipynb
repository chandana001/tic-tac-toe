{
 "cells": [
  {
   "cell_type": "code",
   "execution_count": 10,
   "metadata": {},
   "outputs": [
    {
     "name": "stdout",
     "output_type": "stream",
     "text": [
      "Here is the current list\n",
      "[0, 1, 2]\n"
     ]
    }
   ],
   "source": [
    "game_list=[0,1,2]\n",
    "def display_game(game_list):\n",
    "    print(\"Here is the current list\")\n",
    "    print (game_list)\n",
    "display_game(game_list)"
   ]
  },
  {
   "cell_type": "code",
   "execution_count": 9,
   "metadata": {},
   "outputs": [
    {
     "ename": "AttributeError",
     "evalue": "'int' object has no attribute 'isdigit'",
     "output_type": "error",
     "traceback": [
      "\u001b[1;31m---------------------------------------------------------------------------\u001b[0m",
      "\u001b[1;31mAttributeError\u001b[0m                            Traceback (most recent call last)",
      "\u001b[1;32mc:\\Users\\PRUTHVI SOMA\\Desktop\\python-projects\\tictactoe.ipynb Cell 2'\u001b[0m in \u001b[0;36m<cell line: 13>\u001b[1;34m()\u001b[0m\n\u001b[0;32m     <a href='vscode-notebook-cell:/c%3A/Users/PRUTHVI%20SOMA/Desktop/python-projects/tictactoe.ipynb#ch0000001?line=10'>11</a>\u001b[0m             \u001b[39mprint\u001b[39m(\u001b[39m\"\u001b[39m\u001b[39mSorry ,you are out \u001b[39m\u001b[39m\"\u001b[39m)\n\u001b[0;32m     <a href='vscode-notebook-cell:/c%3A/Users/PRUTHVI%20SOMA/Desktop/python-projects/tictactoe.ipynb#ch0000001?line=11'>12</a>\u001b[0m     \u001b[39mreturn\u001b[39;00m choice\n\u001b[1;32m---> <a href='vscode-notebook-cell:/c%3A/Users/PRUTHVI%20SOMA/Desktop/python-projects/tictactoe.ipynb#ch0000001?line=12'>13</a>\u001b[0m user_choice()\n",
      "\u001b[1;32mc:\\Users\\PRUTHVI SOMA\\Desktop\\python-projects\\tictactoe.ipynb Cell 2'\u001b[0m in \u001b[0;36muser_choice\u001b[1;34m()\u001b[0m\n\u001b[0;32m      <a href='vscode-notebook-cell:/c%3A/Users/PRUTHVI%20SOMA/Desktop/python-projects/tictactoe.ipynb#ch0000001?line=4'>5</a>\u001b[0m \u001b[39mwhile\u001b[39;00m choice\u001b[39m.\u001b[39misdigit()\u001b[39m==\u001b[39m\u001b[39mFalse\u001b[39;00m \u001b[39mand\u001b[39;00m within_range\u001b[39m==\u001b[39m\u001b[39mFalse\u001b[39;00m:\n\u001b[0;32m      <a href='vscode-notebook-cell:/c%3A/Users/PRUTHVI%20SOMA/Desktop/python-projects/tictactoe.ipynb#ch0000001?line=5'>6</a>\u001b[0m     choice\u001b[39m=\u001b[39m\u001b[39mint\u001b[39m(\u001b[39minput\u001b[39m(\u001b[39m\"\u001b[39m\u001b[39mEnter a number:\u001b[39m\u001b[39m\"\u001b[39m))\n\u001b[1;32m----> <a href='vscode-notebook-cell:/c%3A/Users/PRUTHVI%20SOMA/Desktop/python-projects/tictactoe.ipynb#ch0000001?line=6'>7</a>\u001b[0m     \u001b[39mif\u001b[39;00m choice\u001b[39m.\u001b[39;49misdigit() :\n\u001b[0;32m      <a href='vscode-notebook-cell:/c%3A/Users/PRUTHVI%20SOMA/Desktop/python-projects/tictactoe.ipynb#ch0000001?line=7'>8</a>\u001b[0m         \u001b[39mif\u001b[39;00m  choice \u001b[39min\u001b[39;00m acceptable_range:\n\u001b[0;32m      <a href='vscode-notebook-cell:/c%3A/Users/PRUTHVI%20SOMA/Desktop/python-projects/tictactoe.ipynb#ch0000001?line=8'>9</a>\u001b[0m             within_range\u001b[39m=\u001b[39m\u001b[39mTrue\u001b[39;00m\n",
      "\u001b[1;31mAttributeError\u001b[0m: 'int' object has no attribute 'isdigit'"
     ]
    }
   ],
   "source": [
    "def user_choice():\n",
    "    choice='WRONG'\n",
    "    acceptable_range=range(10)\n",
    "    within_range=False\n",
    "    while choice.isdigit()==False and within_range==False:\n",
    "        choice=int(input(\"Enter a number:\"))\n",
    "        if choice.isdigit() :\n",
    "            if  choice in acceptable_range:\n",
    "                within_range=True\n",
    "        else:\n",
    "            print(\"Sorry ,you are out \")\n",
    "    return choice\n",
    "user_choice()"
   ]
  },
  {
   "cell_type": "code",
   "execution_count": 8,
   "metadata": {},
   "outputs": [
    {
     "ename": "TypeError",
     "evalue": "replacement_choice() missing 3 required positional arguments: 'game', 'list', and 'position'",
     "output_type": "error",
     "traceback": [
      "\u001b[1;31m---------------------------------------------------------------------------\u001b[0m",
      "\u001b[1;31mTypeError\u001b[0m                                 Traceback (most recent call last)",
      "\u001b[1;32mc:\\Users\\PRUTHVI SOMA\\Desktop\\python-projects\\tictactoe.ipynb Cell 3'\u001b[0m in \u001b[0;36m<cell line: 5>\u001b[1;34m()\u001b[0m\n\u001b[0;32m      <a href='vscode-notebook-cell:/c%3A/Users/PRUTHVI%20SOMA/Desktop/python-projects/tictactoe.ipynb#ch0000002?line=2'>3</a>\u001b[0m     game_list[position]\u001b[39m=\u001b[39muser_placement\n\u001b[0;32m      <a href='vscode-notebook-cell:/c%3A/Users/PRUTHVI%20SOMA/Desktop/python-projects/tictactoe.ipynb#ch0000002?line=3'>4</a>\u001b[0m     \u001b[39mreturn\u001b[39;00m game_list\n\u001b[1;32m----> <a href='vscode-notebook-cell:/c%3A/Users/PRUTHVI%20SOMA/Desktop/python-projects/tictactoe.ipynb#ch0000002?line=4'>5</a>\u001b[0m replacement_choice()\n",
      "\u001b[1;31mTypeError\u001b[0m: replacement_choice() missing 3 required positional arguments: 'game', 'list', and 'position'"
     ]
    }
   ],
   "source": [
    "def  replacement_choice(game,list,position):\n",
    "    user_placement=input(\"Type a string to place at that position\")\n",
    "    game_list[position]=user_placement\n",
    "    return game_list\n",
    "replacement_choice()"
   ]
  },
  {
   "cell_type": "code",
   "execution_count": null,
   "metadata": {},
   "outputs": [],
   "source": [
    "def gameon_choice():\n",
    "    choice='wrong'\n",
    "    while choice not in ['Y','N']:\n",
    "        clear_output()\n",
    "        print(\"Sorry,I didn't unserstand,please make  sure to enter Y or N\")\n",
    "if  choice =='Y':\n",
    "    return True\n",
    "else:\n",
    "    return False"
   ]
  },
  {
   "cell_type": "code",
   "execution_count": null,
   "metadata": {},
   "outputs": [],
   "source": [
    "#variable to keep game playing\n",
    "game_on=True\n",
    "game_list=[0,1,2]\n",
    "while game_on:\n",
    "    clear_output() \n",
    "    display_game(game_list) \n",
    "    position=position_choice()\n",
    "    game_list=replacement_choice(game_list,position)\n",
    "    display_game(game_list)\n",
    "    game_on=gameon_choice()\n",
    "  \n"
   ]
  }
 ],
 "metadata": {
  "kernelspec": {
   "display_name": "Python 3.10.5 ('my_env': venv)",
   "language": "python",
   "name": "python3"
  },
  "language_info": {
   "codemirror_mode": {
    "name": "ipython",
    "version": 3
   },
   "file_extension": ".py",
   "mimetype": "text/x-python",
   "name": "python",
   "nbconvert_exporter": "python",
   "pygments_lexer": "ipython3",
   "version": "3.10.5"
  },
  "orig_nbformat": 4,
  "vscode": {
   "interpreter": {
    "hash": "e2656b489683d39a15994f38529e7f032bf6f75c53138beb2a305a1afbee0ee1"
   }
  }
 },
 "nbformat": 4,
 "nbformat_minor": 2
}
